{
 "cells": [
  {
   "cell_type": "markdown",
   "metadata": {},
   "source": [
    "# problem 2"
   ]
  },
  {
   "cell_type": "code",
   "execution_count": 11,
   "metadata": {},
   "outputs": [
    {
     "name": "stdout",
     "output_type": "stream",
     "text": [
      "course= intro to python\n",
      "student= Hagop Shourelian\n",
      "nickname= shourell\n",
      "grade= 95\n",
      "python_expert= False\n"
     ]
    }
   ],
   "source": [
    "course=\"intro to python\"\n",
    "student= \"Hagop Shourelian\"\n",
    "nickname= \"shourell\"\n",
    "grade=95\n",
    "python_expert=False\n",
    "print(\"course=\",course)\n",
    "print(\"student=\",student)\n",
    "print (\"nickname=\",nickname)\n",
    "print(\"grade=\",grade)\n",
    "print(\"python_expert=\",python_expert)\n"
   ]
  },
  {
   "cell_type": "markdown",
   "metadata": {},
   "source": [
    "# problem 3"
   ]
  },
  {
   "cell_type": "code",
   "execution_count": 24,
   "metadata": {},
   "outputs": [
    {
     "name": "stdout",
     "output_type": "stream",
     "text": [
      "The hypotenuse of the triangle ABC= 5.0\n"
     ]
    }
   ],
   "source": [
    "AB=3\n",
    "AC=4\n",
    "BC=(AB**2 + AC**2)**0.5\n",
    "print (\"The hypotenuse of the triangle ABC=\", BC)"
   ]
  },
  {
   "cell_type": "code",
   "execution_count": null,
   "metadata": {},
   "outputs": [],
   "source": []
  }
 ],
 "metadata": {
  "kernelspec": {
   "display_name": "Python 3",
   "language": "python",
   "name": "python3"
  },
  "language_info": {
   "codemirror_mode": {
    "name": "ipython",
    "version": 3
   },
   "file_extension": ".py",
   "mimetype": "text/x-python",
   "name": "python",
   "nbconvert_exporter": "python",
   "pygments_lexer": "ipython3",
   "version": "3.7.3"
  }
 },
 "nbformat": 4,
 "nbformat_minor": 2
}
