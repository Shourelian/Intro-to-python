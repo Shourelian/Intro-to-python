{
 "cells": [
  {
   "cell_type": "code",
   "execution_count": 41,
   "metadata": {},
   "outputs": [
    {
     "name": "stdout",
     "output_type": "stream",
     "text": [
      "False\n",
      "True\n",
      "True\n",
      "False\n",
      "flour- 175\n",
      "butter- 175\n",
      "sugar- 100g\n",
      "eggs- 2\n",
      "cocoa powder- 1ts\n",
      "baking powder- 0.5\n"
     ]
    }
   ],
   "source": [
    "project = \"cake\"\n",
    "difficulty = 4\n",
    "ingredients = \"flour\",\"butter\",\"sugar\",\"eggs\",\"cocoa powder\",\"baking powder\"\n",
    "print (\"apples\" in ingredients)\n",
    "print (\"butter\" in ingredients)\n",
    "print ((\"eggs\" in ingredients) or (\"margarine\" in ingredients))\n",
    "print ((\"eggs\" in ingredients) and (\"margarine\" in ingredients))\n",
    "flour = 175\n",
    "butter = 175\n",
    "sugar = \"100g\"\n",
    "eggs = 2\n",
    "cocoa_powder = \"1ts\"\n",
    "baking_powder = 0.5\n",
    "print (\"flour-\",flour)\n",
    "print (\"butter-\",butter)\n",
    "print (\"sugar-\",sugar)\n",
    "print (\"eggs-\",eggs)\n",
    "print (\"cocoa powder-\",cocoa_powder)\n",
    "print (\"baking powder-\",baking_powder)\n",
    "\n"
   ]
  },
  {
   "cell_type": "code",
   "execution_count": null,
   "metadata": {},
   "outputs": [],
   "source": []
  }
 ],
 "metadata": {
  "kernelspec": {
   "display_name": "Python 3",
   "language": "python",
   "name": "python3"
  },
  "language_info": {
   "codemirror_mode": {
    "name": "ipython",
    "version": 3
   },
   "file_extension": ".py",
   "mimetype": "text/x-python",
   "name": "python",
   "nbconvert_exporter": "python",
   "pygments_lexer": "ipython3",
   "version": "3.7.4"
  }
 },
 "nbformat": 4,
 "nbformat_minor": 2
}
